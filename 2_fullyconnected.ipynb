{
 "cells": [
  {
   "cell_type": "code",
   "execution_count": 1,
   "metadata": {
    "collapsed": true
   },
   "outputs": [],
   "source": [
    "from __future__ import print_function\n",
    "import numpy as np\n",
    "import tensorflow as tf\n",
    "from six.moves import cPickle as pickle\n",
    "from six.moves import range"
   ]
  },
  {
   "cell_type": "code",
   "execution_count": 2,
   "metadata": {},
   "outputs": [
    {
     "name": "stdout",
     "output_type": "stream",
     "text": [
      "train_dataset   (200000, 28, 28) (200000,)\n",
      "test_dataset  (10000, 28, 28) (10000,)\n",
      "valid_dataset  (10000, 28, 28) (10000,)\n"
     ]
    }
   ],
   "source": [
    "pickle_file = 'notMNIST.pickle'\n",
    "\n",
    "with open(pickle_file,'rb')as f:\n",
    "    full_data=pickle.load(f)\n",
    "    train_dataset=full_data['train_dataset']\n",
    "    train_labels=full_data['train_labels']\n",
    "    test_dataset=full_data['test_dataset']\n",
    "    test_labels=full_data['test_labels']\n",
    "    valid_dataset=full_data['valid_dataset']\n",
    "    valid_labels=full_data['valid_labels']\n",
    "del full_data\n",
    "print(\"train_dataset  \",train_dataset.shape,train_labels.shape)\n",
    "print(\"test_dataset \",test_dataset.shape,test_labels.shape)\n",
    "print(\"valid_dataset \",valid_dataset.shape,valid_labels.shape)"
   ]
  },
  {
   "cell_type": "code",
   "execution_count": 3,
   "metadata": {},
   "outputs": [
    {
     "name": "stdout",
     "output_type": "stream",
     "text": [
      "Training set (200000, 784) (200000, 10)\n",
      "Validation set (10000, 784) (10000, 10)\n",
      "Test set (10000, 784) (10000, 10)\n"
     ]
    }
   ],
   "source": [
    "image_size = 28\n",
    "num_labels = 10\n",
    "\n",
    "def reformat(dataset, labels):\n",
    "    dataset = dataset.reshape((-1, image_size * image_size)).astype(np.float32)\n",
    "    # Map 0 to [1.0, 0.0, 0.0 ...], 1 to [0.0, 1.0, 0.0 ...]\n",
    "    labels = (np.arange(num_labels) == labels[:,None]).astype(np.float32)\n",
    "    return dataset, labels\n",
    "train_dataset, train_labels = reformat(train_dataset, train_labels)\n",
    "valid_dataset, valid_labels = reformat(valid_dataset, valid_labels)\n",
    "test_dataset, test_labels = reformat(test_dataset, test_labels)\n",
    "print('Training set', train_dataset.shape, train_labels.shape)\n",
    "print('Validation set', valid_dataset.shape, valid_labels.shape)\n",
    "print('Test set', test_dataset.shape, test_labels.shape)"
   ]
  },
  {
   "cell_type": "markdown",
   "metadata": {
    "collapsed": true
   },
   "source": [
    "# fit computation in graph"
   ]
  },
  {
   "cell_type": "code",
   "execution_count": 4,
   "metadata": {
    "collapsed": true
   },
   "outputs": [],
   "source": [
    "train_subset=1000\n",
    "graph=tf.Graph()\n",
    "\n",
    "with graph.as_default():\n",
    "    \n",
    "    tf_train_dataset=tf.constant(train_dataset[:train_subset,:])\n",
    "    tf_train_labels=tf.constant(train_labels[:train_subset,:])\n",
    "    tf_test_dataset=tf.constant(test_dataset)\n",
    "    tf_valid_dataset=tf.constant(valid_dataset)\n",
    "    \n",
    "    \n",
    "    #setting Parameter...............\n",
    "    weights=tf.Variable(tf.truncated_normal([image_size*image_size,num_labels]))\n",
    "    biases=tf.Variable(tf.zeros([num_labels]))\n",
    "    \n",
    "    #training..........................\n",
    "    logits=tf.matmul(tf_train_dataset,weights) + biases\n",
    "    loss=tf.reduce_mean(tf.nn.softmax_cross_entropy_with_logits(labels=tf_train_labels,logits=logits))\n",
    "    \n",
    "    optimiser=tf.train.GradientDescentOptimizer(0.5).minimize(loss)\n",
    "    \n",
    "    #Prediction after training............\n",
    "    train_prediction=tf.nn.softmax(logits)\n",
    "    test_prediction=tf.nn.softmax(tf.matmul(tf_test_dataset,weights)+biases)\n",
    "    valid_prediction=tf.nn.softmax(tf.matmul(tf_valid_dataset,weights)+biases)\n",
    "    "
   ]
  },
  {
   "cell_type": "markdown",
   "metadata": {},
   "source": [
    "# Iterate the computation graph and see Accuracy"
   ]
  },
  {
   "cell_type": "code",
   "execution_count": 5,
   "metadata": {
    "collapsed": true
   },
   "outputs": [],
   "source": [
    "def accuracy(predictions, labels):\n",
    "    return (100.0 * np.sum(np.argmax(predictions, 1) == np.argmax(labels, 1))\n",
    "          / predictions.shape[0])\n",
    "\n",
    "    "
   ]
  },
  {
   "cell_type": "code",
   "execution_count": 6,
   "metadata": {},
   "outputs": [
    {
     "name": "stdout",
     "output_type": "stream",
     "text": [
      "Initialized\n",
      "loss at 0 is 17.262524\n",
      "Training Accuracy now:14.00%\n",
      "Validation Accuracy now:14.61%\n",
      "loss at 100 is 1.389235\n",
      "Training Accuracy now:79.30%\n",
      "Validation Accuracy now:66.85%\n",
      "loss at 200 is 0.688968\n",
      "Training Accuracy now:87.50%\n",
      "Validation Accuracy now:67.74%\n",
      "loss at 300 is 0.376706\n",
      "Training Accuracy now:92.30%\n",
      "Validation Accuracy now:68.33%\n",
      "loss at 400 is 0.219824\n",
      "Training Accuracy now:95.40%\n",
      "Validation Accuracy now:68.70%\n",
      "loss at 500 is 0.139361\n",
      "Training Accuracy now:98.10%\n",
      "Validation Accuracy now:69.04%\n",
      "loss at 600 is 0.095987\n",
      "Training Accuracy now:99.20%\n",
      "Validation Accuracy now:69.32%\n",
      "loss at 700 is 0.071389\n",
      "Training Accuracy now:99.50%\n",
      "Validation Accuracy now:69.47%\n",
      "loss at 800 is 0.056193\n",
      "Training Accuracy now:99.80%\n",
      "Validation Accuracy now:69.65%\n",
      "loss at 900 is 0.046253\n",
      "Training Accuracy now:99.80%\n",
      "Validation Accuracy now:69.76%\n",
      "loss at 1000 is 0.039137\n",
      "Training Accuracy now:99.80%\n",
      "Validation Accuracy now:69.95%\n",
      "--------------------\n",
      "Test Accuracy :77.58%\n"
     ]
    }
   ],
   "source": [
    "num_step=1001\n",
    "with tf.Session(graph=graph) as sess:\n",
    "    tf.global_variables_initializer().run()\n",
    "    print(\"Initialized\")\n",
    "    for step in range(num_step):\n",
    "        opt,l,pred=sess.run([optimiser,loss,train_prediction])\n",
    "        if(step % 100==0):\n",
    "            print(\"loss at %d is %f\" %(step,l))\n",
    "            print(\"Training Accuracy now:%.2f%%\" %accuracy(pred,train_labels[:train_subset,:]))\n",
    "            print(\"Validation Accuracy now:%.2f%%\" %accuracy(valid_prediction.eval(),valid_labels))\n",
    "    print(\"-\"*20)\n",
    "    print(\"Test Accuracy :%.2f%%\" %accuracy(test_prediction.eval(),test_labels))\n",
    "            "
   ]
  },
  {
   "cell_type": "markdown",
   "metadata": {},
   "source": [
    "# Using SGD"
   ]
  },
  {
   "cell_type": "code",
   "execution_count": 7,
   "metadata": {
    "collapsed": true
   },
   "outputs": [],
   "source": [
    "graph=tf.Graph()\n",
    "batch_size=128\n",
    "with graph.as_default():\n",
    "    tf_train_dataset=tf.placeholder(tf.float32,shape=(batch_size,image_size*image_size))\n",
    "    tf_train_labels=tf.placeholder(tf.float32,shape=(batch_size,num_labels))\n",
    "    tf_valid_dataset=tf.constant(valid_dataset)\n",
    "    tf_test_dataset=tf.constant(test_dataset)\n",
    "    \n",
    "    #parameters..............\n",
    "    weights=tf.Variable(tf.truncated_normal([image_size*image_size,num_labels]))\n",
    "    biases=tf.Variable(tf.zeros([num_labels]))\n",
    "    \n",
    "    #model computation ..................\n",
    "    logits=tf.matmul(tf_train_dataset,weights)+biases\n",
    "    loss=tf.reduce_mean(tf.nn.softmax_cross_entropy_with_logits(logits=logits,labels=tf_train_labels))\n",
    "    \n",
    "    #optimize............\n",
    "    optimizer=tf.train.GradientDescentOptimizer(0.5).minimize(loss)\n",
    "    \n",
    "    #prediction..........\n",
    "    train_prediction=tf.nn.softmax(logits)\n",
    "    valid_prediction=tf.nn.softmax(tf.matmul(tf_valid_dataset,weights)+biases)\n",
    "    test_prediction=tf.nn.softmax(tf.matmul(tf_test_dataset,weights)+biases)"
   ]
  },
  {
   "cell_type": "code",
   "execution_count": 8,
   "metadata": {},
   "outputs": [
    {
     "name": "stdout",
     "output_type": "stream",
     "text": [
      "Initialized  --------------------\n",
      "loss at 0:19.243279\n",
      "Mini Batch Accuracy:10.94%\n",
      "Validation Accuracy:10.28%\n",
      "loss at 100:2.680439\n",
      "Mini Batch Accuracy:68.75%\n",
      "Validation Accuracy:70.02%\n",
      "loss at 200:2.304486\n",
      "Mini Batch Accuracy:67.19%\n",
      "Validation Accuracy:73.24%\n",
      "loss at 300:1.584449\n",
      "Mini Batch Accuracy:75.78%\n",
      "Validation Accuracy:74.18%\n",
      "loss at 400:1.501973\n",
      "Mini Batch Accuracy:72.66%\n",
      "Validation Accuracy:74.23%\n",
      "loss at 500:1.114059\n",
      "Mini Batch Accuracy:80.47%\n",
      "Validation Accuracy:75.38%\n",
      "loss at 600:1.160684\n",
      "Mini Batch Accuracy:82.03%\n",
      "Validation Accuracy:75.85%\n",
      "loss at 700:1.166031\n",
      "Mini Batch Accuracy:80.47%\n",
      "Validation Accuracy:75.82%\n",
      "loss at 800:2.049074\n",
      "Mini Batch Accuracy:65.62%\n",
      "Validation Accuracy:76.04%\n",
      "loss at 900:1.138509\n",
      "Mini Batch Accuracy:78.91%\n",
      "Validation Accuracy:76.09%\n",
      "loss at 1000:1.406076\n",
      "Mini Batch Accuracy:71.88%\n",
      "Validation Accuracy:76.54%\n",
      "loss at 1100:1.205722\n",
      "Mini Batch Accuracy:78.12%\n",
      "Validation Accuracy:76.28%\n",
      "loss at 1200:1.303012\n",
      "Mini Batch Accuracy:81.25%\n",
      "Validation Accuracy:76.62%\n",
      "loss at 1300:1.262356\n",
      "Mini Batch Accuracy:77.34%\n",
      "Validation Accuracy:76.55%\n",
      "loss at 1400:1.303692\n",
      "Mini Batch Accuracy:77.34%\n",
      "Validation Accuracy:76.79%\n",
      "loss at 1500:1.692490\n",
      "Mini Batch Accuracy:71.09%\n",
      "Validation Accuracy:77.05%\n",
      "loss at 1600:0.847920\n",
      "Mini Batch Accuracy:78.12%\n",
      "Validation Accuracy:77.15%\n",
      "loss at 1700:1.114756\n",
      "Mini Batch Accuracy:79.69%\n",
      "Validation Accuracy:76.48%\n",
      "loss at 1800:1.079472\n",
      "Mini Batch Accuracy:82.03%\n",
      "Validation Accuracy:77.24%\n",
      "loss at 1900:1.123013\n",
      "Mini Batch Accuracy:73.44%\n",
      "Validation Accuracy:77.68%\n",
      "loss at 2000:1.279129\n",
      "Mini Batch Accuracy:75.00%\n",
      "Validation Accuracy:77.74%\n",
      "loss at 2100:1.427057\n",
      "Mini Batch Accuracy:72.66%\n",
      "Validation Accuracy:78.05%\n",
      "loss at 2200:0.983143\n",
      "Mini Batch Accuracy:79.69%\n",
      "Validation Accuracy:77.77%\n",
      "loss at 2300:0.757945\n",
      "Mini Batch Accuracy:78.91%\n",
      "Validation Accuracy:78.28%\n",
      "loss at 2400:0.764567\n",
      "Mini Batch Accuracy:81.25%\n",
      "Validation Accuracy:77.89%\n",
      "loss at 2500:1.650062\n",
      "Mini Batch Accuracy:65.62%\n",
      "Validation Accuracy:77.10%\n",
      "loss at 2600:0.828788\n",
      "Mini Batch Accuracy:79.69%\n",
      "Validation Accuracy:78.34%\n",
      "loss at 2700:0.872744\n",
      "Mini Batch Accuracy:82.03%\n",
      "Validation Accuracy:77.26%\n",
      "loss at 2800:1.464328\n",
      "Mini Batch Accuracy:71.88%\n",
      "Validation Accuracy:78.26%\n",
      "loss at 2900:0.895404\n",
      "Mini Batch Accuracy:77.34%\n",
      "Validation Accuracy:78.34%\n",
      "loss at 3000:0.826976\n",
      "Mini Batch Accuracy:75.00%\n",
      "Validation Accuracy:78.49%\n",
      "------------------------------\n",
      "Test Accuracy:85.68%\n"
     ]
    }
   ],
   "source": [
    "num_step=3001\n",
    "with tf.Session(graph=graph) as sess:\n",
    "    tf.global_variables_initializer().run()\n",
    "    print(\"Initialized \",\"-\"*20)\n",
    "    for step in range(num_step):\n",
    "        #create feed_dict ................\n",
    "        offset=np.random.randint(0,200000-128)\n",
    "        batch_data=train_dataset[offset:(offset+batch_size),:]\n",
    "        batch_labels=train_labels[offset:(offset+batch_size),:]\n",
    "        feed_dict={tf_train_dataset:batch_data,tf_train_labels:batch_labels}\n",
    "        \n",
    "        #run the session...............\n",
    "        opt,l,pred_train=sess.run([optimizer,loss,train_prediction],feed_dict=feed_dict)\n",
    "        if (step%100 == 0):\n",
    "            print(\"loss at %d:%f\" %(step,l))\n",
    "            print(\"Mini Batch Accuracy:%.2f%%\" %accuracy(pred_train,batch_labels))\n",
    "            print(\"Validation Accuracy:%.2f%%\" %accuracy(valid_prediction.eval(),valid_labels))\n",
    "    print(\"-\"*30)\n",
    "    print(\"Test Accuracy:%.2f%%\" %accuracy(test_prediction.eval(),test_labels))\n",
    "    \n",
    "    "
   ]
  },
  {
   "cell_type": "markdown",
   "metadata": {},
   "source": [
    "# Problem 1"
   ]
  },
  {
   "cell_type": "code",
   "execution_count": 12,
   "metadata": {
    "collapsed": true
   },
   "outputs": [],
   "source": [
    "image_size=28\n",
    "num_labels=10\n",
    "batch_size=128\n",
    "K=1024\n",
    "\n",
    "#Initialization..............................\n",
    "graph=tf.Graph()\n",
    "with graph.as_default():\n",
    "    X=tf.placeholder(tf.float32,shape=(None,image_size*image_size))\n",
    "    Y=tf.placeholder(tf.float32,shape=(None,num_labels))\n",
    "    tf_valid_dataset=tf.constant(valid_dataset)\n",
    "    tf_test_dataset=tf.constant(test_dataset)\n",
    "    \n",
    "    #parameters...................\n",
    "    ##### Layer1\n",
    "    w1=tf.Variable(tf.truncated_normal([image_size*image_size,K]))\n",
    "    b1=tf.Variable(tf.zeros([K]))\n",
    "    \n",
    "    ##### Final Layer\n",
    "    w2=tf.Variable(tf.truncated_normal([K,num_labels]))\n",
    "    b2=tf.Variable(tf.zeros([num_labels]))\n",
    "    \n",
    "    \n",
    "    \n",
    "    #model Computation....................................\n",
    "    y1=tf.nn.relu(tf.matmul(X,w1)+b1)\n",
    "    logits =tf.matmul(y1,w2)+b2\n",
    "    loss=tf.reduce_mean(tf.nn.softmax_cross_entropy_with_logits(logits=logits,labels=Y))\n",
    "    \n",
    "    #optimize...........\n",
    "    optimizer=tf.train.GradientDescentOptimizer(0.5).minimize(loss)\n",
    "    \n",
    "    #prediction...................\n",
    "    train_prediction=tf.nn.softmax(logits)\n",
    "    \n",
    "    t1=tf.nn.relu(tf.matmul(test_dataset,w1)+b1)\n",
    "    t_logits=tf.matmul(t1,w2)+b2\n",
    "    test_prediction=tf.nn.softmax(t_logits)\n",
    "    \n",
    "    v1=tf.nn.relu(tf.matmul(valid_dataset,w1)+b1)\n",
    "    v_logits=tf.matmul(v1,w2)+b2\n",
    "    valid_prediction=tf.nn.softmax(v_logits)"
   ]
  },
  {
   "cell_type": "code",
   "execution_count": 13,
   "metadata": {},
   "outputs": [
    {
     "name": "stdout",
     "output_type": "stream",
     "text": [
      "Initialized  --------------------\n",
      "loss at 0:372.035278\n",
      "Mini Batch Accuracy:3.91%\n",
      "Validation Accuracy:27.34%\n",
      "loss at 500:16.649914\n",
      "Mini Batch Accuracy:78.12%\n",
      "Validation Accuracy:80.57%\n",
      "loss at 1000:4.839578\n",
      "Mini Batch Accuracy:80.47%\n",
      "Validation Accuracy:81.63%\n",
      "loss at 1500:7.206089\n",
      "Mini Batch Accuracy:82.81%\n",
      "Validation Accuracy:80.67%\n",
      "loss at 2000:4.810598\n",
      "Mini Batch Accuracy:83.59%\n",
      "Validation Accuracy:82.58%\n",
      "loss at 2500:4.005328\n",
      "Mini Batch Accuracy:76.56%\n",
      "Validation Accuracy:81.55%\n",
      "loss at 3000:3.968112\n",
      "Mini Batch Accuracy:87.50%\n",
      "Validation Accuracy:82.47%\n",
      "loss at 3500:7.853579\n",
      "Mini Batch Accuracy:78.12%\n",
      "Validation Accuracy:78.44%\n",
      "loss at 4000:1.811989\n",
      "Mini Batch Accuracy:87.50%\n",
      "Validation Accuracy:83.20%\n",
      "loss at 4500:1.792280\n",
      "Mini Batch Accuracy:85.94%\n",
      "Validation Accuracy:82.80%\n",
      "loss at 5000:1.370371\n",
      "Mini Batch Accuracy:89.06%\n",
      "Validation Accuracy:83.15%\n",
      "------------------------------\n",
      "Test Accuracy:89.85%\n"
     ]
    }
   ],
   "source": [
    "num_step=5001\n",
    "with tf.Session(graph=graph) as sess:\n",
    "    tf.global_variables_initializer().run()\n",
    "    print(\"Initialized \",\"-\"*20)\n",
    "    for step in range(num_step):\n",
    "        #create feed_dict ................\n",
    "        offset=np.random.randint(0,200000-128)\n",
    "        batch_data=train_dataset[offset:(offset+batch_size),:]\n",
    "        batch_labels=train_labels[offset:(offset+batch_size),:]\n",
    "        \n",
    "        \n",
    "        #run the session...............\n",
    "        opt,l,pred_train=sess.run([optimizer,loss,train_prediction],feed_dict={X:batch_data,Y:batch_labels})\n",
    "        if (step%500 == 0):\n",
    "            print(\"loss at %d:%f\" %(step,l))\n",
    "            print(\"Mini Batch Accuracy:%.2f%%\" %accuracy(pred_train,batch_labels))\n",
    "            print(\"Validation Accuracy:%.2f%%\" %accuracy(valid_prediction.eval(),valid_labels))\n",
    "    print(\"-\"*30)\n",
    "    \n",
    "    print(\"Test Accuracy:%.2f%%\" %accuracy(test_prediction.eval(),test_labels))"
   ]
  },
  {
   "cell_type": "code",
   "execution_count": null,
   "metadata": {
    "collapsed": true
   },
   "outputs": [],
   "source": []
  }
 ],
 "metadata": {
  "kernelspec": {
   "display_name": "Python 3",
   "language": "python",
   "name": "python3"
  },
  "language_info": {
   "codemirror_mode": {
    "name": "ipython",
    "version": 3
   },
   "file_extension": ".py",
   "mimetype": "text/x-python",
   "name": "python",
   "nbconvert_exporter": "python",
   "pygments_lexer": "ipython3",
   "version": "3.5.3+"
  }
 },
 "nbformat": 4,
 "nbformat_minor": 2
}
