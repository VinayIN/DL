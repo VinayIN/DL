{
 "cells": [
  {
   "cell_type": "code",
   "execution_count": 1,
   "metadata": {
    "collapsed": true
   },
   "outputs": [],
   "source": [
    "import numpy as np\n",
    "import matplotlib.pyplot as plt\n",
    "from sklearn import ensemble\n",
    "from sklearn.metrics import mean_squared_error\n",
    "from six.moves import cPickle as pickle\n",
    "%matplotlib inline"
   ]
  },
  {
   "cell_type": "code",
   "execution_count": 2,
   "metadata": {},
   "outputs": [],
   "source": [
    "#load dataset from BODY_dataset.pickle\n",
    "file='./BODY_dataset.pickle'\n",
    "with open(file,'rb') as f:\n",
    "    data=pickle.load(f)\n",
    "    features=data['features']\n",
    "    labels=data['label_1']  #shoulder breadth\n",
    "    del data\n",
    "    f.close()"
   ]
  },
  {
   "cell_type": "code",
   "execution_count": 3,
   "metadata": {},
   "outputs": [],
   "source": [
    "def randomize_data(dataset,labels):\n",
    "    permutation=np.random.permutation(labels.shape[0])\n",
    "    dataset=dataset[permutation, :]\n",
    "    labels=labels[permutation]\n",
    "    return dataset.astype(np.float32),labels.astype(np.float32)"
   ]
  },
  {
   "cell_type": "code",
   "execution_count": 4,
   "metadata": {},
   "outputs": [],
   "source": [
    "dataset,labels=randomize_data(features,labels)"
   ]
  },
  {
   "cell_type": "code",
   "execution_count": 5,
   "metadata": {
    "collapsed": true
   },
   "outputs": [],
   "source": [
    "batch_offset=int(dataset.shape[0] * 0.9)\n",
    "train_dataset=dataset[:batch_offset, :]\n",
    "train_labels=labels[:batch_offset]\n",
    "\n",
    "test_dataset=dataset[batch_offset: , :]\n",
    "test_labels=labels[batch_offset: ]\n"
   ]
  },
  {
   "cell_type": "code",
   "execution_count": 13,
   "metadata": {},
   "outputs": [
    {
     "name": "stdout",
     "output_type": "stream",
     "text": [
      "MSE: 282.2307\n"
     ]
    }
   ],
   "source": [
    "#regression model\n",
    "from sklearn.metrics import accuracy_score\n",
    "reg = ensemble.GradientBoostingRegressor(n_estimators=500, max_depth=4, min_samples_split=2,learning_rate=0.01, loss='ls')\n",
    "\n",
    "reg.fit(train_dataset, train_labels)\n",
    "mse = mean_squared_error(test_labels, reg.predict(test_dataset))\n",
    "print(\"MSE: %.4f\" % mse)\n"
   ]
  },
  {
   "cell_type": "code",
   "execution_count": null,
   "metadata": {
    "collapsed": true
   },
   "outputs": [],
   "source": []
  }
 ],
 "metadata": {
  "kernelspec": {
   "display_name": "Python 3",
   "language": "python",
   "name": "python3"
  },
  "language_info": {
   "codemirror_mode": {
    "name": "ipython",
    "version": 3
   },
   "file_extension": ".py",
   "mimetype": "text/x-python",
   "name": "python",
   "nbconvert_exporter": "python",
   "pygments_lexer": "ipython3",
   "version": "3.6.2"
  }
 },
 "nbformat": 4,
 "nbformat_minor": 2
}
