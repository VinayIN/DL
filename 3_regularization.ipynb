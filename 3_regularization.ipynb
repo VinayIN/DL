{
 "cells": [
  {
   "cell_type": "code",
   "execution_count": 1,
   "metadata": {},
   "outputs": [
    {
     "name": "stdout",
     "output_type": "stream",
     "text": [
      "train_dataset   (200000, 28, 28) (200000,)\n",
      "test_dataset  (10000, 28, 28) (10000,)\n",
      "valid_dataset  (10000, 28, 28) (10000,)\n",
      "Training set (200000, 784) (200000, 10)\n",
      "Validation set (10000, 784) (10000, 10)\n",
      "Test set (10000, 784) (10000, 10)\n"
     ]
    }
   ],
   "source": [
    "from __future__ import print_function\n",
    "import numpy as np\n",
    "import tensorflow as tf\n",
    "from six.moves import cPickle as pickle\n",
    "from six.moves import range\n",
    "\n",
    "##### extract the data ###########\n",
    "pickle_file = 'notMNIST.pickle'\n",
    "\n",
    "with open(pickle_file,'rb')as f:\n",
    "    full_data=pickle.load(f)\n",
    "    train_dataset=full_data['train_dataset']\n",
    "    train_labels=full_data['train_labels']\n",
    "    test_dataset=full_data['test_dataset']\n",
    "    test_labels=full_data['test_labels']\n",
    "    valid_dataset=full_data['valid_dataset']\n",
    "    valid_labels=full_data['valid_labels']\n",
    "del full_data\n",
    "print(\"train_dataset  \",train_dataset.shape,train_labels.shape)\n",
    "print(\"test_dataset \",test_dataset.shape,test_labels.shape)\n",
    "print(\"valid_dataset \",valid_dataset.shape,valid_labels.shape)\n",
    "\n",
    "\n",
    "########## Reshape it #########\n",
    "image_size = 28\n",
    "num_labels = 10\n",
    "\n",
    "def reformat(dataset, labels):\n",
    "    dataset = dataset.reshape((-1, image_size * image_size)).astype(np.float32)\n",
    "    # Map 0 to [1.0, 0.0, 0.0 ...], 1 to [0.0, 1.0, 0.0 ...]\n",
    "    labels = (np.arange(num_labels) == labels[:,None]).astype(np.float32)\n",
    "    return dataset, labels\n",
    "train_dataset, train_labels = reformat(train_dataset, train_labels)\n",
    "valid_dataset, valid_labels = reformat(valid_dataset, valid_labels)\n",
    "test_dataset, test_labels = reformat(test_dataset, test_labels)\n",
    "print('Training set', train_dataset.shape, train_labels.shape)\n",
    "print('Validation set', valid_dataset.shape, valid_labels.shape)\n",
    "print('Test set', test_dataset.shape, test_labels.shape)"
   ]
  },
  {
   "cell_type": "code",
   "execution_count": 2,
   "metadata": {
    "collapsed": true
   },
   "outputs": [],
   "source": [
    "def accuracy(predictions, labels):\n",
    "    return (100.0 * np.sum(np.argmax(predictions, 1) == np.argmax(labels, 1))\n",
    "          / predictions.shape[0])\n"
   ]
  },
  {
   "cell_type": "markdown",
   "metadata": {},
   "source": [
    "# Problem 1"
   ]
  },
  {
   "cell_type": "code",
   "execution_count": 3,
   "metadata": {
    "collapsed": true
   },
   "outputs": [],
   "source": [
    "######### fit the graph ###########\n",
    "\n",
    "graph=tf.Graph()\n",
    "batch_size=128\n",
    "num_labels=10\n",
    "K=1024\n",
    "\n",
    "with graph.as_default():\n",
    "    tf_train_dataset=tf.placeholder(tf.float32,shape=(batch_size,image_size*image_size))\n",
    "    tf_train_labels=tf.placeholder(tf.float32,shape=(batch_size,num_labels))\n",
    "    tf_valid_dataset=tf.constant(valid_dataset)\n",
    "    tf_test_dataset=tf.constant(test_dataset)\n",
    "    beta=tf.placeholder(tf.float32)\n",
    "    \n",
    "    #parameters..............\n",
    "    \n",
    "    #### Layer 1\n",
    "    w1=tf.Variable(tf.truncated_normal([image_size*image_size,K]))\n",
    "    b1=tf.Variable(tf.zeros([K]))\n",
    "    #### Final Layer\n",
    "    w2=tf.Variable(tf.truncated_normal([K,num_labels]))\n",
    "    b2=tf.Variable(tf.zeros([num_labels]))\n",
    "    \n",
    "    #model computation ..................\n",
    "    #dropout\n",
    "    pkeep=tf.placeholder(tf.float32)\n",
    "    y1=tf.nn.relu(tf.matmul(tf_train_dataset,w1)+b1)\n",
    "    yf=tf.nn.dropout(y1,pkeep)\n",
    "    y2=tf.matmul(yf,w2)+b2\n",
    "    \n",
    "    #loss calculation with L2 regularization\n",
    "    loss=tf.reduce_mean(tf.nn.softmax_cross_entropy_with_logits(logits=y2,labels=tf_train_labels))\n",
    "    regularize=tf.nn.l2_loss(w2)\n",
    "    loss=tf.reduce_mean(loss+beta*regularize)\n",
    "    \n",
    "    #decay learning rate\n",
    "    global_step=tf.Variable(0,trainable=False)\n",
    "    starter_learning_rate=0.05\n",
    "    learning_rate=tf.train.exponential_decay(starter_learning_rate,global_step,2000,0.8,staircase=True)\n",
    "        \n",
    "    \n",
    "    #optimize............\n",
    "    optimizer=tf.train.GradientDescentOptimizer(learning_rate).minimize(loss,global_step=global_step)\n",
    "    \n",
    "    #prediction..........\n",
    "    #train\n",
    "    train_prediction=tf.nn.softmax(y2)\n",
    "    \n",
    "    #validation\n",
    "    #dropout\n",
    "    v1=tf.nn.relu(tf.matmul(tf_valid_dataset,w1)+b1)\n",
    "    v2=tf.matmul(v1,w2)+b2\n",
    "    valid_prediction=tf.nn.softmax(v2)\n",
    "    \n",
    "    #test\n",
    "    #no dropout\n",
    "    t1=tf.nn.relu(tf.matmul(tf_test_dataset,w1)+b1)\n",
    "    t2=tf.matmul(t1,w2)+b2\n",
    "    test_prediction=tf.nn.softmax(t2)"
   ]
  },
  {
   "cell_type": "code",
   "execution_count": 4,
   "metadata": {},
   "outputs": [
    {
     "name": "stdout",
     "output_type": "stream",
     "text": [
      "Initialised\n",
      "loss at 0:831.676270\n",
      "Mini-Batch Accuracy : 16.41%\n",
      "validation Accuracy : 22.16%\n",
      "loss at 500:13.169919\n",
      "Mini-Batch Accuracy : 76.56%\n",
      "validation Accuracy : 79.19%\n",
      "loss at 1000:7.222066\n",
      "Mini-Batch Accuracy : 78.91%\n",
      "validation Accuracy : 73.88%\n",
      "loss at 1500:7.828028\n",
      "Mini-Batch Accuracy : 73.44%\n",
      "validation Accuracy : 72.84%\n",
      "loss at 2000:6.698494\n",
      "Mini-Batch Accuracy : 78.91%\n",
      "validation Accuracy : 80.31%\n",
      "loss at 2500:5.941772\n",
      "Mini-Batch Accuracy : 73.44%\n",
      "validation Accuracy : 71.18%\n",
      "loss at 3000:4.833040\n",
      "Mini-Batch Accuracy : 75.78%\n",
      "validation Accuracy : 81.54%\n",
      "loss at 3500:5.942774\n",
      "Mini-Batch Accuracy : 71.09%\n",
      "validation Accuracy : 80.77%\n",
      "loss at 4000:9.641151\n",
      "Mini-Batch Accuracy : 64.84%\n",
      "validation Accuracy : 69.63%\n",
      "loss at 4500:3.798401\n",
      "Mini-Batch Accuracy : 70.31%\n",
      "validation Accuracy : 73.66%\n",
      "loss at 5000:5.551904\n",
      "Mini-Batch Accuracy : 73.44%\n",
      "validation Accuracy : 77.54%\n",
      "--------------------\n",
      "Test Accuracy: 84.42%\n"
     ]
    }
   ],
   "source": [
    "#train the model\n",
    "\n",
    "num_steps=5001\n",
    "\n",
    "with tf.Session(graph=graph) as sess:\n",
    "    tf.global_variables_initializer().run()\n",
    "    print(\"Initialised\")\n",
    "    \n",
    "    for step in range(num_steps):\n",
    "        #create a mini batch \n",
    "        offset=np.random.randint(0,(200000-128))\n",
    "        batch_data=train_dataset[offset:(offset+batch_size),:]\n",
    "        batch_labels=train_labels[offset:(offset+batch_size),:]\n",
    "        feed_dict={tf_train_dataset:batch_data,tf_train_labels:batch_labels,beta:0.1,pkeep:0.75}\n",
    "        #run the session\n",
    "        opt,l,pred_train=sess.run([optimizer,loss,train_prediction],feed_dict=feed_dict)\n",
    "        if (step %500 == 0):\n",
    "            print (\"loss at %d:%f\" %(step,l))\n",
    "            print (\"Mini-Batch Accuracy : %.2f%%\" %accuracy(pred_train,batch_labels))\n",
    "            print (\"validation Accuracy : %.2f%%\" %accuracy(valid_prediction.eval(),valid_labels))\n",
    "    print(\"-\"*20)\n",
    "    print(\"Test Accuracy: %.2f%%\" %accuracy(test_prediction.eval(),test_labels))"
   ]
  },
  {
   "cell_type": "code",
   "execution_count": null,
   "metadata": {
    "collapsed": true
   },
   "outputs": [],
   "source": []
  }
 ],
 "metadata": {
  "kernelspec": {
   "display_name": "Python 3",
   "language": "python",
   "name": "python3"
  },
  "language_info": {
   "codemirror_mode": {
    "name": "ipython",
    "version": 3
   },
   "file_extension": ".py",
   "mimetype": "text/x-python",
   "name": "python",
   "nbconvert_exporter": "python",
   "pygments_lexer": "ipython3",
   "version": "3.5.2"
  }
 },
 "nbformat": 4,
 "nbformat_minor": 2
}
