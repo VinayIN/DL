{
 "cells": [
  {
   "cell_type": "code",
   "execution_count": 1,
   "metadata": {
    "collapsed": true
   },
   "outputs": [],
   "source": [
    "import numpy as np\n",
    "import scipy as sp\n",
    "import os\n",
    "import cv2\n",
    "import sys\n",
    "from PIL import Image\n",
    "import matplotlib.pyplot as plt\n",
    "%matplotlib inline"
   ]
  },
  {
   "cell_type": "code",
   "execution_count": 2,
   "metadata": {
    "collapsed": true
   },
   "outputs": [],
   "source": [
    "dir=['./train/shirt/','./test/shirt/','./train/not_a_shirt/','./test/not_a_shirt/']"
   ]
  },
  {
   "cell_type": "code",
   "execution_count": 3,
   "metadata": {
    "collapsed": true
   },
   "outputs": [],
   "source": [
    "channels=3\n",
    "image_size=28\n",
    "\n",
    "def make_array(dir):\n",
    "    count=0;\n",
    "    for folder in dir:\n",
    "        files=os.listdir(folder)\n",
    "        for file in files:\n",
    "            count=count+1;\n",
    "    \n",
    "    dataset=np.ndarray(shape=(count,image_size,image_size,channels), dtype=np.float32)\n",
    "    labels=np.ndarray(shape=(count), dtype=np.int32)\n",
    "    return dataset,labels"
   ]
  },
  {
   "cell_type": "code",
   "execution_count": 13,
   "metadata": {},
   "outputs": [],
   "source": [
    "dataset,labels=make_array(dir)\n",
    "num_cloth=0\n",
    "pixel_depth=255.0\n",
    "\n",
    "for i,folder in enumerate(dir):\n",
    "    files=os.listdir(folder)\n",
    "    if (i<2):\n",
    "        category=0\n",
    "    else:\n",
    "        category=1\n",
    "    for file in files:\n",
    "        c=folder+file\n",
    "        img=cv2.imread(c)\n",
    "        img=cv2.resize(img,(28,28))\n",
    "        img= img.astype(np.float32)\n",
    "        img= (np.array(img).astype(float) - \n",
    "                    pixel_depth / 2) / pixel_depth\n",
    "        dataset[num_cloth, :, :, :]=img\n",
    "        labels[num_cloth]=category\n",
    "        num_cloth=num_cloth+1\n",
    "dataset=dataset[0:num_cloth, :, :, :]\n",
    "labels=labels[0:num_cloth]"
   ]
  },
  {
   "cell_type": "code",
   "execution_count": 22,
   "metadata": {},
   "outputs": [],
   "source": [
    "dataset=np.array(dataset)\n",
    "labels=np.array(labels)\n",
    "test=dataset[61,:,:,:]\n",
    "test_title=labels[61]"
   ]
  },
  {
   "cell_type": "code",
   "execution_count": 23,
   "metadata": {},
   "outputs": [
    {
     "data": {
      "text/plain": [
       "<matplotlib.text.Text at 0x1194d88d0>"
      ]
     },
     "execution_count": 23,
     "metadata": {},
     "output_type": "execute_result"
    },
    {
     "data": {
      "image/png": "[encoded data removed]",
      "text/plain": [
       "<matplotlib.figure.Figure at 0x119329c88>"
      ]
     },
     "metadata": {},
     "output_type": "display_data"
    }
   ],
   "source": [
    "plt.imshow(test)\n",
    "plt.title(test_title)"
   ]
  },
  {
   "cell_type": "code",
   "execution_count": null,
   "metadata": {
    "collapsed": true
   },
   "outputs": [],
   "source": []
  }
 ],
 "metadata": {
  "kernelspec": {
   "display_name": "Python 3",
   "language": "python",
   "name": "python3"
  },
  "language_info": {
   "codemirror_mode": {
    "name": "ipython",
    "version": 3
   },
   "file_extension": ".py",
   "mimetype": "text/x-python",
   "name": "python",
   "nbconvert_exporter": "python",
   "pygments_lexer": "ipython3",
   "version": "3.6.2"
  }
 },
 "nbformat": 4,
 "nbformat_minor": 2
}
