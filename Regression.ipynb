{
 "cells": [
  {
   "cell_type": "code",
   "execution_count": 1,
   "metadata": {
    "collapsed": true
   },
   "outputs": [],
   "source": [
    "from __future__ import print_function\n",
    "import numpy as np\n",
    "import pandas as pd\n",
    "import matplotlib.pyplot as plt\n",
    "import tensorflow as tf\n",
    "%matplotlib inline"
   ]
  },
  {
   "cell_type": "code",
   "execution_count": 2,
   "metadata": {},
   "outputs": [
    {
     "data": {
      "text/html": [
       "<div>\n",
       "<style>\n",
       "    .dataframe thead tr:only-child th {\n",
       "        text-align: right;\n",
       "    }\n",
       "\n",
       "    .dataframe thead th {\n",
       "        text-align: left;\n",
       "    }\n",
       "\n",
       "    .dataframe tbody tr th {\n",
       "        vertical-align: top;\n",
       "    }\n",
       "</style>\n",
       "<table border=\"1\" class=\"dataframe\">\n",
       "  <thead>\n",
       "    <tr style=\"text-align: right;\">\n",
       "      <th></th>\n",
       "      <th>Weight (N)</th>\n",
       "      <th>Stature (mm)</th>\n",
       "      <th>Head circumference (mm)</th>\n",
       "      <th>Shoulder breadth (mm)</th>\n",
       "      <th>Hand length (mm)</th>\n",
       "      <th>Chest circumference (mm)</th>\n",
       "      <th>Waist circumference (mm)</th>\n",
       "      <th>Age (months)</th>\n",
       "    </tr>\n",
       "  </thead>\n",
       "  <tbody>\n",
       "    <tr>\n",
       "      <th>0</th>\n",
       "      <td>256</td>\n",
       "      <td>1278</td>\n",
       "      <td>505</td>\n",
       "      <td>298</td>\n",
       "      <td>138</td>\n",
       "      <td>602</td>\n",
       "      <td>553</td>\n",
       "      <td>120</td>\n",
       "    </tr>\n",
       "  </tbody>\n",
       "</table>\n",
       "</div>"
      ],
      "text/plain": [
       "   Weight (N)  Stature (mm)  Head circumference (mm)  Shoulder breadth (mm)  \\\n",
       "0         256          1278                      505                    298   \n",
       "\n",
       "   Hand length (mm)  Chest circumference (mm)  Waist circumference (mm)  \\\n",
       "0               138                       602                       553   \n",
       "\n",
       "   Age (months)  \n",
       "0           120  "
      ]
     },
     "execution_count": 2,
     "metadata": {},
     "output_type": "execute_result"
    }
   ],
   "source": [
    "data=pd.read_csv(\"Dataset1.csv\")\n",
    "data.head(1)"
   ]
  },
  {
   "cell_type": "code",
   "execution_count": 3,
   "metadata": {
    "collapsed": true
   },
   "outputs": [],
   "source": [
    "Y=data['Hand length (mm)']\n",
    "X=data.drop(['Hand length (mm)'],axis=1)\n",
    "\n",
    "del data\n",
    "X=np.array(X).astype(np.float32)\n",
    "Y=np.array(Y).astype(np.float32)\n",
    "\n",
    "x_train=X[:1000,:]\n",
    "x_valid=X[1001:1050,:]\n",
    "x_test=X[1051:1078,:]\n",
    "\n",
    "Y_train=Y[:1000]\n",
    "Y_valid=Y[1001:1050]\n",
    "Y_test=Y[1051:1078]"
   ]
  },
  {
   "cell_type": "code",
   "execution_count": 4,
   "metadata": {
    "collapsed": true
   },
   "outputs": [],
   "source": [
    "#accuracy\n",
    "\n"
   ]
  },
  {
   "cell_type": "code",
   "execution_count": 5,
   "metadata": {
    "collapsed": true
   },
   "outputs": [],
   "source": [
    "#normalize fetaures\n",
    "def normalize_data(features):\n",
    "    mean=np.mean(features,axis=0)\n",
    "    std=np.std(features,axis=0)\n",
    "    return (features-mean)/std"
   ]
  },
  {
   "cell_type": "code",
   "execution_count": 6,
   "metadata": {
    "collapsed": true
   },
   "outputs": [],
   "source": [
    "x_train=normalize_data(x_train)\n",
    "x_valid=normalize_data(x_valid)\n",
    "x_test=normalize_data(x_test)"
   ]
  },
  {
   "cell_type": "code",
   "execution_count": 7,
   "metadata": {
    "collapsed": true
   },
   "outputs": [],
   "source": [
    "#reshape the feature and labels\n",
    "def data_reshape(features,labels):\n",
    "    n_samples=features.shape[0]\n",
    "    n_dim=features.shape[1]\n",
    "    f=np.reshape(np.c_[np.ones(n_samples),features],[n_samples,n_dim + 1])\n",
    "    l=np.reshape(labels,[n_samples,1])\n",
    "    return f,l\n",
    "    "
   ]
  },
  {
   "cell_type": "code",
   "execution_count": 8,
   "metadata": {
    "collapsed": true
   },
   "outputs": [],
   "source": [
    "train_dataset,train_labels=data_reshape(x_train,Y_train)\n",
    "valid_dataset,valid_labels=data_reshape(x_valid,Y_valid)\n",
    "test_dataset,test_labels=data_reshape(x_test,Y_test)"
   ]
  },
  {
   "cell_type": "code",
   "execution_count": 10,
   "metadata": {},
   "outputs": [],
   "source": [
    "#initialize Graph\n",
    "dim=train_dataset.shape[1]\n",
    "num_labels=1 #prediction\n",
    "\n",
    "graph=tf.Graph()\n",
    "with graph.as_default():\n",
    "    # Placeholder and variable\n",
    "    tf_train_dataset=tf.placeholder(tf.float32,shape=(None,dim))\n",
    "    tf_train_labels=tf.placeholder(tf.float32,shape=(None,1))\n",
    "    tf_valid_dataset=tf.constant(valid_dataset)\n",
    "    tf_test_dataset=tf.constant(test_dataset)\n",
    "    \n",
    "    \n",
    "    #weights and biases\n",
    "    w1=tf.Variable(tf.truncated_normal(shape=[dim,num_labels],stddev=0.1))\n",
    "    b1=tf.Variable(tf.ones([num_labels]))\n",
    "    \n",
    "    \n",
    "    #model computation\n",
    "    def model(dataset):\n",
    "        regr=tf.add(tf.matmul(tf.cast(dataset,tf.float32),w1),b1)\n",
    "        return regr\n",
    "    \n",
    "    #loss\n",
    "    Y_=model(tf_train_dataset)\n",
    "    loss=tf.reduce_mean(tf.square(Y_ - tf_train_labels))\n",
    "    \n",
    "    #optimize the loss\n",
    "    optimize=tf.train.GradientDescentOptimizer(0.03).minimize(loss)\n",
    "    \n",
    "    #predict the value\n",
    "    pred_train=Y_\n",
    "    pred_valid=model(tf_valid_dataset)\n",
    "    pred_test=model(tf_test_dataset)\n",
    "    \n",
    "    "
   ]
  },
  {
   "cell_type": "code",
   "execution_count": 16,
   "metadata": {},
   "outputs": [
    {
     "name": "stdout",
     "output_type": "stream",
     "text": [
      "Initialization done--------------------\n",
      "loss at step 0:29639.992188\n",
      "loss at step 100:48.943714\n",
      "loss at step 200:46.440941\n",
      "loss at step 300:45.767712\n",
      "loss at step 400:45.513687\n",
      "loss at step 500:45.379906\n",
      "loss at step 600:45.293758\n",
      "loss at step 700:45.233288\n",
      "loss at step 800:45.189453\n",
      "loss at step 900:45.157330\n",
      "loss at step 1000:45.133671\n"
     ]
    }
   ],
   "source": [
    "#run till epoch=101\n",
    "epochs=1001\n",
    "cost_history = np.empty(shape=[1],dtype=float)\n",
    "\n",
    "\n",
    "with tf.Session(graph=graph) as sess:\n",
    "    tf.global_variables_initializer().run()\n",
    "    print(\"Initialization done--------------------\")\n",
    "    feed_dict={tf_train_dataset:train_dataset,tf_train_labels:train_labels}\n",
    "    for step in range(epochs):\n",
    "        opt,l,pred=sess.run([optimize,loss,pred_train],feed_dict=feed_dict)\n",
    "        cost_history=np.append(cost_history,l)\n",
    "        if(step%100==0):\n",
    "            print(\"loss at step %d:%f\" %(step,l))\n",
    "            "
   ]
  },
  {
   "cell_type": "code",
   "execution_count": 14,
   "metadata": {},
   "outputs": [
    {
     "data": {
      "image/png": "[encoded data removed]",
      "text/plain": [
       "<matplotlib.figure.Figure at 0x1172fea90>"
      ]
     },
     "metadata": {},
     "output_type": "display_data"
    }
   ],
   "source": [
    "plt.plot(range(len(cost_history)),cost_history)\n",
    "plt.axis([0,epochs,0,np.max(cost_history)])\n",
    "plt.show()"
   ]
  },
  {
   "cell_type": "code",
   "execution_count": null,
   "metadata": {
    "collapsed": true
   },
   "outputs": [],
   "source": []
  }
 ],
 "metadata": {
  "kernelspec": {
   "display_name": "Python 3",
   "language": "python",
   "name": "python3"
  },
  "language_info": {
   "codemirror_mode": {
    "name": "ipython",
    "version": 3
   },
   "file_extension": ".py",
   "mimetype": "text/x-python",
   "name": "python",
   "nbconvert_exporter": "python",
   "pygments_lexer": "ipython3",
   "version": "3.6.2"
  }
 },
 "nbformat": 4,
 "nbformat_minor": 2
}
