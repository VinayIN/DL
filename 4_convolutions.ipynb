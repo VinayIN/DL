{
 "cells": [
  {
   "cell_type": "code",
   "execution_count": 1,
   "metadata": {
    "collapsed": true
   },
   "outputs": [],
   "source": [
    "from __future__ import print_function\n",
    "import numpy as np\n",
    "import tensorflow as tf\n",
    "from six.moves import cPickle as pickle\n",
    "from six.moves import range"
   ]
  },
  {
   "cell_type": "code",
   "execution_count": 2,
   "metadata": {},
   "outputs": [
    {
     "name": "stdout",
     "output_type": "stream",
     "text": [
      "train set: (200000, 28, 28) (200000,)\n",
      "test set: (10000, 28, 28) (10000,)\n",
      "valid set: (10000, 28, 28) (10000,)\n"
     ]
    }
   ],
   "source": [
    "pickle_file=\"notMNIST.pickle\"\n",
    "with open(pickle_file,'rb') as f:\n",
    "    full_data=pickle.load(f)\n",
    "    train_dataset=full_data['train_dataset']\n",
    "    train_labels=full_data['train_labels']\n",
    "    test_dataset=full_data['test_dataset']\n",
    "    test_labels=full_data['test_labels']\n",
    "    valid_dataset=full_data['valid_dataset']\n",
    "    valid_labels=full_data['valid_labels']\n",
    "    del full_data\n",
    "    print(\"train set:\",train_dataset.shape,train_labels.shape)\n",
    "    print(\"test set:\",test_dataset.shape,test_labels.shape)\n",
    "    print(\"valid set:\",valid_dataset.shape,valid_labels.shape)"
   ]
  },
  {
   "cell_type": "code",
   "execution_count": 3,
   "metadata": {},
   "outputs": [
    {
     "name": "stdout",
     "output_type": "stream",
     "text": [
      "Training set (200000, 28, 28, 1) (200000, 10)\n",
      "Validation set (10000, 28, 28, 1) (10000, 10)\n",
      "Test set (10000, 28, 28, 1) (10000, 10)\n"
     ]
    }
   ],
   "source": [
    "# Reshape the dataset\n",
    "image_size = 28\n",
    "num_labels = 10\n",
    "num_channels = 1 # grayscale\n",
    "\n",
    "def reformat(dataset, labels):\n",
    "    dataset = dataset.reshape((-1, image_size, image_size, num_channels)).astype(np.float32)\n",
    "    labels = (np.arange(num_labels) == labels[:,None]).astype(np.float32)\n",
    "    return dataset, labels\n",
    "train_dataset, train_labels = reformat(train_dataset, train_labels)\n",
    "valid_dataset, valid_labels = reformat(valid_dataset, valid_labels)\n",
    "test_dataset, test_labels = reformat(test_dataset, test_labels)\n",
    "print('Training set', train_dataset.shape, train_labels.shape)\n",
    "print('Validation set', valid_dataset.shape, valid_labels.shape)\n",
    "print('Test set', test_dataset.shape, test_labels.shape)"
   ]
  },
  {
   "cell_type": "code",
   "execution_count": 4,
   "metadata": {
    "collapsed": true
   },
   "outputs": [],
   "source": [
    "def accuracy(predictions,labels):\n",
    "    return(100.0*np.sum(np.argmax(predictions,1)==np.argmax(labels,1))/predictions.shape[0])"
   ]
  },
  {
   "cell_type": "code",
   "execution_count": 6,
   "metadata": {},
   "outputs": [],
   "source": [
    "#initialize\n",
    "batch_size=16\n",
    "patch_size=5\n",
    "depth=16\n",
    "more_depth=32\n",
    "num_hidden=64\n",
    "image_size=28\n",
    "\n",
    "\n",
    "graph=tf.Graph()\n",
    "with graph.as_default():\n",
    "    tf_train_dataset=tf.placeholder(tf.float32,shape=(batch_size,image_size,image_size,num_channels))\n",
    "    tf_train_labels=tf.placeholder(tf.float32,shape=(batch_size,num_labels))\n",
    "    tf_valid_dataset=tf.constant(valid_dataset)\n",
    "    tf_test_dataset=tf.constant(test_dataset)\n",
    "    \n",
    "    # Weight and Bias Parameters\n",
    "    K=8\n",
    "    ###### Layer 1\n",
    "    w1=tf.Variable(tf.truncated_normal(shape=[patch_size,patch_size,num_channels,K],stddev=0.1)) ##### W[5,5,1,4] ->[,28,28,4]\n",
    "    b1=tf.Variable(tf.zeros([K]))\n",
    "    \n",
    "    ###### Layer 2\n",
    "    w2=tf.Variable(tf.truncated_normal(shape=[patch_size,patch_size,K,depth],stddev=0.1))  ##### W[5,5,4,16] ->[,14,14,16]\n",
    "    b2=tf.Variable(tf.constant(1.0,shape=[depth]))\n",
    "    \n",
    "    ###### Layer 3\n",
    "    w3=tf.Variable(tf.truncated_normal(shape=[patch_size,patch_size,depth,more_depth],stddev=0.1))  ###### W[5,5,16,16] ->[,7,7,16]\n",
    "    b3=tf.Variable(tf.constant(1.0,shape=[more_depth]))\n",
    "    \n",
    "    ###### connected Layer\n",
    "    w4=tf.Variable(tf.truncated_normal(shape=[image_size//4 * image_size//4 * more_depth,num_hidden],stddev=0.1)) ##### W[7*7*16,64] ->[,64]\n",
    "    b4=tf.Variable(tf.constant(1.0,shape=[num_hidden]))\n",
    "    \n",
    "    ###### final layer\n",
    "    w5=tf.Variable(tf.truncated_normal(shape=[num_hidden,num_labels],stddev=0.1)) ####### W[64,10]\n",
    "    b5=tf.Variable(tf.constant(1.0, shape=[num_labels]))\n",
    "    \n",
    "    \n",
    "    # Computing CNN model\n",
    "    def model(data):\n",
    "        conv1=tf.nn.relu(tf.nn.conv2d(data,w1, strides=[1,1,1,1],padding='SAME') +b1)\n",
    "        \n",
    "        conv2=tf.nn.relu(tf.nn.conv2d(conv1,w2, strides=[1,2,2,1], padding='SAME') +b2)\n",
    "        \n",
    "        conv3=tf.nn.relu(tf.nn.conv2d(conv2,w3, strides=[1,2,2,1], padding='SAME') +b3)\n",
    "        \n",
    "        conv3_shape=conv3.get_shape().as_list()\n",
    "        conv3_reshape=tf.reshape(conv3, [conv3_shape[0],conv3_shape[1]*conv3_shape[2]*conv3_shape[3]])\n",
    "        \n",
    "        #connected Layer\n",
    "        connec=tf.nn.relu(tf.matmul(conv3_reshape,w4) +b4)\n",
    "        \n",
    "        return (tf.matmul(connec,w5) +b5)\n",
    "    \n",
    "    # Train Computation\n",
    "    logits=model(tf_train_dataset)\n",
    "    loss=tf.reduce_mean(tf.nn.softmax_cross_entropy_with_logits(logits=logits, labels=tf_train_labels))\n",
    "    \n",
    "    # Optimizer\n",
    "    optimizer=tf.train.GradientDescentOptimizer(0.5).minimize(loss)\n",
    "    \n",
    "    #Predictions\n",
    "    train_prediction=tf.nn.softmax(logits)\n",
    "    test_prediction=tf.nn.softmax(model(tf_test_dataset))\n",
    "    valid_prediction=tf.nn.softmax(tf_valid_dataset)\n",
    "        \n",
    "    \n"
   ]
  },
  {
   "cell_type": "code",
   "execution_count": 7,
   "metadata": {},
   "outputs": [
    {
     "name": "stdout",
     "output_type": "stream",
     "text": [
      "Initialised......\n",
      "loss at 0:4.271260\n",
      "Mini Batch Accuracy:25.00%\n",
      "Validation Accuracy:2800000.00%\n",
      "loss at 10:3.846241\n",
      "Mini Batch Accuracy:12.50%\n",
      "Validation Accuracy:2800000.00%\n",
      "loss at 20:2.324955\n",
      "Mini Batch Accuracy:12.50%\n",
      "Validation Accuracy:2800000.00%\n",
      "loss at 30:2.346263\n",
      "Mini Batch Accuracy:12.50%\n",
      "Validation Accuracy:2800000.00%\n",
      "loss at 40:2.417567\n",
      "Mini Batch Accuracy:6.25%\n",
      "Validation Accuracy:2800000.00%\n",
      "loss at 50:2.212980\n",
      "Mini Batch Accuracy:25.00%\n",
      "Validation Accuracy:2800000.00%\n",
      "loss at 60:2.376173\n",
      "Mini Batch Accuracy:6.25%\n",
      "Validation Accuracy:2800000.00%\n",
      "loss at 70:2.270123\n",
      "Mini Batch Accuracy:25.00%\n",
      "Validation Accuracy:2800000.00%\n",
      "loss at 80:2.305731\n",
      "Mini Batch Accuracy:12.50%\n",
      "Validation Accuracy:2800000.00%\n",
      "loss at 90:2.365678\n",
      "Mini Batch Accuracy:12.50%\n",
      "Validation Accuracy:2800000.00%\n",
      "------------------------------\n",
      "Test Accuracy:10.00%\n"
     ]
    }
   ],
   "source": [
    "# Iterate the model and train \n",
    "num_steps=100\n",
    "\n",
    "with tf.Session(graph=graph) as sess:\n",
    "    tf.global_variables_initializer().run()\n",
    "    print(\"Initialised......\")\n",
    "    for step in range(num_steps):\n",
    "        offset=np.random.randint(0,200000-16)\n",
    "        batch_data=train_dataset[offset:(offset+batch_size),:,:,:]\n",
    "        batch_labels=train_labels[offset:(offset+batch_size),:]\n",
    "        \n",
    "        feed_dict={tf_train_dataset:batch_data, tf_train_labels:batch_labels}\n",
    "        opt,l,pred=sess.run([optimizer,loss,train_prediction],feed_dict=feed_dict)\n",
    "        if (step%10==0):\n",
    "            print(\"loss at %d:%f\" %(step,l))\n",
    "            print(\"Mini Batch Accuracy:%.2f%%\" %accuracy(pred,batch_labels))\n",
    "            print(\"Validation Accuracy:%.2f%%\" %accuracy(valid_prediction.eval(),valid_labels))\n",
    "    print(\"-\"*30)\n",
    "    \n",
    "    print(\"Test Accuracy:%.2f%%\" %accuracy(test_prediction.eval(),test_labels))\n",
    "            "
   ]
  },
  {
   "cell_type": "code",
   "execution_count": null,
   "metadata": {
    "collapsed": true
   },
   "outputs": [],
   "source": []
  }
 ],
 "metadata": {
  "kernelspec": {
   "display_name": "Python 3",
   "language": "python",
   "name": "python3"
  },
  "language_info": {
   "codemirror_mode": {
    "name": "ipython",
    "version": 3
   },
   "file_extension": ".py",
   "mimetype": "text/x-python",
   "name": "python",
   "nbconvert_exporter": "python",
   "pygments_lexer": "ipython3",
   "version": "3.5.2"
  }
 },
 "nbformat": 4,
 "nbformat_minor": 2
}
