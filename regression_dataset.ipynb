{
 "cells": [
  {
   "cell_type": "code",
   "execution_count": 1,
   "metadata": {
    "collapsed": true
   },
   "outputs": [],
   "source": [
    "import pandas as pd\n",
    "import numpy as np\n",
    "import matplotlib.pyplot as plt\n",
    "%matplotlib inline"
   ]
  },
  {
   "cell_type": "code",
   "execution_count": 2,
   "metadata": {},
   "outputs": [
    {
     "data": {
      "text/html": [
       "<div>\n",
       "<style>\n",
       "    .dataframe thead tr:only-child th {\n",
       "        text-align: right;\n",
       "    }\n",
       "\n",
       "    .dataframe thead th {\n",
       "        text-align: left;\n",
       "    }\n",
       "\n",
       "    .dataframe tbody tr th {\n",
       "        vertical-align: top;\n",
       "    }\n",
       "</style>\n",
       "<table border=\"1\" class=\"dataframe\">\n",
       "  <thead>\n",
       "    <tr style=\"text-align: right;\">\n",
       "      <th></th>\n",
       "      <th>WEIGHT(N)</th>\n",
       "      <th>HEIGHT(mm)</th>\n",
       "      <th>HEAD CIRCUMFERENCE(mm)</th>\n",
       "      <th>SHOULDER BREADTH(mm)</th>\n",
       "      <th>HAND LENGTH(mm)</th>\n",
       "      <th>CHEST CIRCUMFERENCE(mm)</th>\n",
       "      <th>WAIST CIRCUMFERENCE(mm)</th>\n",
       "      <th>SLEEVE LENGTH(mm)</th>\n",
       "      <th>AGE (months)</th>\n",
       "    </tr>\n",
       "  </thead>\n",
       "  <tbody>\n",
       "    <tr>\n",
       "      <th>0</th>\n",
       "      <td>256</td>\n",
       "      <td>1278</td>\n",
       "      <td>505</td>\n",
       "      <td>298</td>\n",
       "      <td>138</td>\n",
       "      <td>602</td>\n",
       "      <td>553</td>\n",
       "      <td>352.0</td>\n",
       "      <td>120</td>\n",
       "    </tr>\n",
       "  </tbody>\n",
       "</table>\n",
       "</div>"
      ],
      "text/plain": [
       "   WEIGHT(N)  HEIGHT(mm)  HEAD CIRCUMFERENCE(mm)  SHOULDER BREADTH(mm)  \\\n",
       "0        256        1278                     505                   298   \n",
       "\n",
       "   HAND LENGTH(mm)  CHEST CIRCUMFERENCE(mm)  WAIST CIRCUMFERENCE(mm)  \\\n",
       "0              138                      602                      553   \n",
       "\n",
       "   SLEEVE LENGTH(mm)  AGE (months)  \n",
       "0              352.0           120  "
      ]
     },
     "execution_count": 2,
     "metadata": {},
     "output_type": "execute_result"
    }
   ],
   "source": [
    "file='./MLD.csv'\n",
    "data=pd.read_csv(file)\n",
    "data.head(1)"
   ]
  },
  {
   "cell_type": "code",
   "execution_count": 3,
   "metadata": {},
   "outputs": [],
   "source": [
    "label_1=data['SHOULDER BREADTH(mm)']\n",
    "label_2=data['SLEEVE LENGTH(mm)']\n",
    "label_final=data['CHEST CIRCUMFERENCE(mm)']\n",
    "feature=data.drop(['WEIGHT(N)','SHOULDER BREADTH(mm)','HEAD CIRCUMFERENCE(mm)','HAND LENGTH(mm)','CHEST CIRCUMFERENCE(mm)','SLEEVE LENGTH(mm)','AGE (months)'],axis=1)"
   ]
  },
  {
   "cell_type": "code",
   "execution_count": 4,
   "metadata": {
    "collapsed": true
   },
   "outputs": [],
   "source": [
    "del data\n",
    "label_1,label_2,label_final=np.array(label_1),np.array(label_2),np.array(label_final)\n",
    "feature=np.array(feature)"
   ]
  },
  {
   "cell_type": "code",
   "execution_count": 5,
   "metadata": {},
   "outputs": [
    {
     "data": {
      "text/plain": [
       "(1078, 2)"
      ]
     },
     "execution_count": 5,
     "metadata": {},
     "output_type": "execute_result"
    }
   ],
   "source": [
    "feature.shape"
   ]
  },
  {
   "cell_type": "code",
   "execution_count": 6,
   "metadata": {
    "collapsed": true
   },
   "outputs": [],
   "source": [
    "from six.moves import cPickle as pickle\n",
    "import os\n",
    "root='.'\n",
    "pickle_file=os.path.join(root,'BODY_dataset.pickle')\n",
    "with open(pickle_file,'wb') as f:\n",
    "    save={\n",
    "    'label_1':label_1,\n",
    "    'label_2':label_2,\n",
    "    'label_final':label_final,\n",
    "    'features':feature,\n",
    "    }\n",
    "    pickle.dump(save,f,pickle.HIGHEST_PROTOCOL)\n",
    "    f.close()"
   ]
  }
 ],
 "metadata": {
  "kernelspec": {
   "display_name": "Python 3",
   "language": "python",
   "name": "python3"
  },
  "language_info": {
   "codemirror_mode": {
    "name": "ipython",
    "version": 3
   },
   "file_extension": ".py",
   "mimetype": "text/x-python",
   "name": "python",
   "nbconvert_exporter": "python",
   "pygments_lexer": "ipython3",
   "version": "3.6.2"
  }
 },
 "nbformat": 4,
 "nbformat_minor": 2
}
